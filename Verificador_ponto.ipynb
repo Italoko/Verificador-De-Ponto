{
  "nbformat": 4,
  "nbformat_minor": 0,
  "metadata": {
    "colab": {
      "name": "Verificador ponto CERTO.ipynb",
      "provenance": [],
      "collapsed_sections": []
    },
    "kernelspec": {
      "name": "python3",
      "display_name": "Python 3"
    },
    "language_info": {
      "name": "python"
    }
  },
  "cells": [
    {
      "cell_type": "code",
      "source": [
        "!pip install tabula-py"
      ],
      "metadata": {
        "id": "i-ZVr5hlWWr5"
      },
      "execution_count": null,
      "outputs": []
    },
    {
      "cell_type": "code",
      "source": [
        "import tabula\n",
        "import pandas as pd\n",
        "from google.colab import data_table\n",
        "from datetime import datetime,timedelta"
      ],
      "metadata": {
        "id": "ien-f9pOcZ2Y"
      },
      "execution_count": null,
      "outputs": []
    },
    {
      "cell_type": "code",
      "source": [
        "from urllib import request"
      ],
      "metadata": {
        "id": "SCL4prFiWURm"
      },
      "execution_count": null,
      "outputs": []
    },
    {
      "cell_type": "code",
      "source": [
        "file_name = 'Espelho de Ponto.PDF'\n",
        "dfs = tabula.read_pdf('/content/'+file_name)\n",
        "infos = dfs[1]\n",
        "carga_trabalho = timedelta(hours=10.0,minutes=48)\n",
        "data_table.enable_dataframe_formatter()"
      ],
      "metadata": {
        "id": "GiN0LCwFcdKg",
        "colab": {
          "base_uri": "https://localhost:8080/"
        },
        "outputId": "6c14c52e-33f8-44cd-c691-144c03f6abf9"
      },
      "execution_count": null,
      "outputs": [
        {
          "output_type": "stream",
          "name": "stderr",
          "text": [
            "'pages' argument isn't specified.Will extract only from page 1 by default.\n"
          ]
        }
      ]
    },
    {
      "cell_type": "code",
      "source": [
        "uteis = list(filter(lambda dia: 'Normal' in dia,infos[\"DataTipo de Dia\"]))\n",
        "pontos = list(filter(lambda ponto: str(ponto) != 'nan' and ponto.count(':') >= 1, infos[\"Ent1Sai1Ent2Sai2Ent3Sai3Ent4Sai4\"]))"
      ],
      "metadata": {
        "id": "DZJzS-45pERx"
      },
      "execution_count": null,
      "outputs": []
    },
    {
      "cell_type": "code",
      "source": [
        "def get_dia(data):\n",
        "  return (data.split(' ')[0], data.split(' ')[2][:3])"
      ],
      "metadata": {
        "id": "AFztM-0p0wdl"
      },
      "execution_count": null,
      "outputs": []
    },
    {
      "cell_type": "code",
      "source": [
        "def get_horary(hours):\n",
        "  return (hours[:5], hours[5:])"
      ],
      "metadata": {
        "id": "lAjXQt7f1TRI"
      },
      "execution_count": null,
      "outputs": []
    },
    {
      "cell_type": "code",
      "source": [
        "def get_interval_time(time1,time2):\n",
        "  if time1:\n",
        "    if time2:\n",
        "      return datetime.strptime(time2,\"%H:%M\")-datetime.strptime(time1,\"%H:%M\")\n",
        "    else: return \"Não bateu\" \n",
        "  else: return \"Não bateu\""
      ],
      "metadata": {
        "id": "90hIxpZDjhCW"
      },
      "execution_count": null,
      "outputs": []
    },
    {
      "cell_type": "code",
      "source": [
        "def get_situation(time1,time2):\n",
        "  if time1:\n",
        "    if time2:\n",
        "      if carga_trabalho.seconds-get_interval_time(time1, time2).seconds >= 0: return 'OK'\n",
        "      else: return 'Carga de trabalho inferior'\n",
        "      pass\n",
        "    else: 'Não bateu ponto de saída'\n",
        "  else: return 'Não bateu ponto de entrada'\n"
      ],
      "metadata": {
        "id": "qsDU60VACEuj"
      },
      "execution_count": null,
      "outputs": []
    },
    {
      "cell_type": "code",
      "source": [
        "def relatorio():\n",
        "  relatorio = list()\n",
        "\n",
        "  for data,hora in zip(uteis,pontos):\n",
        "    dia, dia_semana = get_dia(data)\n",
        "    entrada, saida =  get_horary(hora)\n",
        "    worked_hours = get_interval_time(entrada,saida)\n",
        "    \n",
        "    relatorio.append({\n",
        "        \"Data\": dia,\n",
        "        \"Dia da semana\": dia_semana,\n",
        "        \"Entrada\":entrada,\n",
        "        \"Saida\": saida,\n",
        "        \"Horas trabalhadas\": str(worked_hours),\n",
        "        \"Status\": get_situation(entrada,saida)\n",
        "    })\n",
        "  display(pd.DataFrame(relatorio))\n"
      ],
      "metadata": {
        "id": "wtQDr0-2wOnG"
      },
      "execution_count": null,
      "outputs": []
    },
    {
      "cell_type": "code",
      "source": [
        "relatorio()"
      ],
      "metadata": {
        "id": "YyKeBDbRQjp_"
      },
      "execution_count": null,
      "outputs": []
    }
  ]
}